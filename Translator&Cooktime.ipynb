{
  "nbformat": 4,
  "nbformat_minor": 0,
  "metadata": {
    "colab": {
      "provenance": [],
      "authorship_tag": "ABX9TyPOubbzrBWdu12qFoNeSRdY",
      "include_colab_link": true
    },
    "kernelspec": {
      "name": "python3",
      "display_name": "Python 3"
    },
    "language_info": {
      "name": "python"
    }
  },
  "cells": [
    {
      "cell_type": "markdown",
      "metadata": {
        "id": "view-in-github",
        "colab_type": "text"
      },
      "source": [
        "<a href=\"https://colab.research.google.com/github/bkpearse/Cooking-Project/blob/benjamain/Translator%26Cooktime.ipynb\" target=\"_parent\"><img src=\"https://colab.research.google.com/assets/colab-badge.svg\" alt=\"Open In Colab\"/></a>"
      ]
    },
    {
      "cell_type": "code",
      "execution_count": null,
      "metadata": {
        "id": "rHbm4x657OKJ"
      },
      "outputs": [],
      "source": [
        "pip install googletrans==4.0.0-rc1"
      ]
    },
    {
      "cell_type": "code",
      "source": [
        "from googletrans import Translator, LANGUAGES"
      ],
      "metadata": {
        "id": "-I9EhNBg8Bpo"
      },
      "execution_count": null,
      "outputs": []
    },
    {
      "cell_type": "code",
      "source": [
        "import pandas as pd\n"
      ],
      "metadata": {
        "id": "jk6bUhSnHzm0"
      },
      "execution_count": null,
      "outputs": []
    },
    {
      "cell_type": "code",
      "source": [
        "from google.colab import drive"
      ],
      "metadata": {
        "id": "ttCWOnWdiSjX"
      },
      "execution_count": null,
      "outputs": []
    },
    {
      "cell_type": "code",
      "source": [
        "drive.mount('/content/drive')"
      ],
      "metadata": {
        "id": "7BZCaHHGiSxr"
      },
      "execution_count": null,
      "outputs": []
    },
    {
      "cell_type": "code",
      "source": [
        "import os\n",
        "os.chdir('/content/drive/MyDrive/Colab Notebooks/')"
      ],
      "metadata": {
        "id": "ElfUp2GbiS-P"
      },
      "execution_count": null,
      "outputs": []
    },
    {
      "cell_type": "code",
      "source": [
        "df = pd.read_csv('Data/RecipeNLG_dataset.csv')"
      ],
      "metadata": {
        "id": "HKlENy9iilZl"
      },
      "execution_count": null,
      "outputs": []
    },
    {
      "cell_type": "code",
      "source": [
        "df.head()"
      ],
      "metadata": {
        "id": "0jCa2k4Xilmu"
      },
      "execution_count": null,
      "outputs": []
    },
    {
      "cell_type": "code",
      "source": [],
      "metadata": {
        "id": "PhmcQrKoi2cS"
      },
      "execution_count": null,
      "outputs": []
    },
    {
      "cell_type": "code",
      "source": [],
      "metadata": {
        "id": "FvZUoCMti2t5"
      },
      "execution_count": null,
      "outputs": []
    },
    {
      "cell_type": "code",
      "source": [
        "#Translate Text using Google translate\n",
        "def translate_text(text, target_language=\"\"):\n",
        "    translator = Translator()\n",
        "    translation = translator.translate(text, dest=target_language)\n",
        "    return translation.text"
      ],
      "metadata": {
        "id": "ZUjBF15ILWKU"
      },
      "execution_count": null,
      "outputs": []
    },
    {
      "cell_type": "code",
      "source": [
        "## We only need to change the target_language in the translated_text when we call the function below to indicate which language we want to translate our text to, the original language is\n",
        "## automactially detected with google."
      ],
      "metadata": {
        "id": "_x0y4EeBLWNA"
      },
      "execution_count": null,
      "outputs": []
    },
    {
      "cell_type": "code",
      "source": [
        "text_to_translate = example\n",
        "translated_text = translate_text(text_to_translate, target_language=\"ar\")\n",
        "\n",
        "print(\"Original text:\", text_to_translate)\n",
        "print(\"Translated text:\", translated_text)"
      ],
      "metadata": {
        "id": "-eDr3iiWMuia",
        "colab": {
          "base_uri": "https://localhost:8080/"
        },
        "outputId": "b6ec017d-c948-4971-c9a8-69038a09a9cf"
      },
      "execution_count": 70,
      "outputs": [
        {
          "output_type": "stream",
          "name": "stdout",
          "text": [
            "Original text: [\"Beat eggs, salt and pepper until well blended.\", \"Stir in half and half, potatoes and onions.\", \"Pour into well-greased 8-inch baking dish.\", \"Bake in a 400\\u00b0 oven for 35 to 40 minutes, or until knife inserted in center comes out clean and potatoes are tender. Cool on rack 5 minutes; cut into squares.\", \"Makes 4 large servings.\"]\n",
            "Translated text: \"من 35 إلى 40 دقيقة ، أو حتى يتم إدخال السكين في الوسط نظيفًا ، والبطاطا طرية. تبرد على الرف 5 دقائق ؛ مقطعة إلى مربعات. \"،\" يجعل 4 حصص كبيرة. \"]\n"
          ]
        }
      ]
    },
    {
      "cell_type": "code",
      "source": [
        "#Function for translation in a python file\n",
        "\n",
        "def main():\n",
        "    text_to_translate = \"recipe\"\n",
        "    translated_text = translate_text(text_to_translate, target_language=\"es\")\n",
        "    print(\"Original text:\", text_to_translate)\n",
        "    print(\"Translated text:\", translated_text)\n",
        "\n",
        "if __name__ == \"__main__\":\n",
        "    main()"
      ],
      "metadata": {
        "id": "88QNX26oMusH"
      },
      "execution_count": null,
      "outputs": []
    },
    {
      "cell_type": "code",
      "source": [
        "import re\n",
        "## Function that isloates the numbers next to the string 'minute' or 'hour'\n",
        "def find_cooking_time(text):\n",
        "    # Search for a number followed by \"minute\" or \"hour\" (case-insensitive)\n",
        "    pattern = re.compile(r'(\\d+)\\s*(minute[s]?|hour[s]?)', re.IGNORECASE)\n",
        "    match = pattern.search(text)\n",
        "\n",
        "    if match:\n",
        "        value, unit = int(match.group(1)), match.group(2).lower()\n",
        "        if \"hour\" in unit:\n",
        "            value *= 60  # Convert hours to minutes\n",
        "        return value\n",
        "    else:\n",
        "        return None"
      ],
      "metadata": {
        "id": "j3DurfpiHz4i"
      },
      "execution_count": null,
      "outputs": []
    },
    {
      "cell_type": "code",
      "source": [
        "# Apply the find_cooking_time function to the \"direction\" column to create a new column call cook_time\n",
        "df['cook_time'] = df['directions'].apply(find_cooking_time)"
      ],
      "metadata": {
        "id": "Qu-deluVIm4Q"
      },
      "execution_count": null,
      "outputs": []
    },
    {
      "cell_type": "code",
      "source": [
        "# Replace NaN values with 0 in the \"cook_time\" column\n",
        "df['cook_time'].fillna(0, inplace=True)"
      ],
      "metadata": {
        "id": "-57i8rROnnRB"
      },
      "execution_count": 71,
      "outputs": []
    }
  ]
}