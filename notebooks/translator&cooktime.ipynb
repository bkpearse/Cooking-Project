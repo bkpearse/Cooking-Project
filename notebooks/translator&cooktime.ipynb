{
 "cells": [
  {
   "cell_type": "code",
   "execution_count": null,
   "metadata": {},
   "outputs": [],
   "source": [
    "# Installations\n",
    "pip install googletrans==4.0.0-rc1"
   ]
  },
  {
   "cell_type": "code",
   "execution_count": null,
   "metadata": {},
   "outputs": [],
   "source": [
    "# Imports\n",
    "from googletrans import Translator, LANGUAGES\n",
    "import pandas as pd\n",
    "import re\n",
    "from google.colab import drive\n",
    "import os"
   ]
  },
  {
   "cell_type": "code",
   "execution_count": null,
   "metadata": {},
   "outputs": [],
   "source": [
    "# Connect to drive\n",
    "drive.mount('/content/drive')"
   ]
  },
  {
   "cell_type": "code",
   "execution_count": null,
   "metadata": {},
   "outputs": [],
   "source": [
    "# Change directory to drive\n",
    "os.chdir('/content/drive/MyDrive/Colab Notebooks/')"
   ]
  },
  {
   "cell_type": "code",
   "execution_count": null,
   "metadata": {},
   "outputs": [],
   "source": [
    "# Load data\n",
    "df = pd.read_csv('Data/RecipeNLG_dataset.csv')"
   ]
  },
  {
   "cell_type": "code",
   "execution_count": null,
   "metadata": {},
   "outputs": [],
   "source": [
    "# Load head of data\n",
    "df.head()"
   ]
  },
  {
   "cell_type": "code",
   "execution_count": null,
   "metadata": {},
   "outputs": [],
   "source": [
    "#Translate Text using Google translate\n",
    "def translate_text(text, target_language=\"\"):\n",
    "    translator = Translator()\n",
    "    translation = translator.translate(text, dest=target_language)\n",
    "    return translation.text"
   ]
  },
  {
   "cell_type": "code",
   "execution_count": null,
   "metadata": {},
   "outputs": [],
   "source": [
    "## We only need to change the target_language in the translated_text when we call the function below to indicate which language we want to translate our text to, the original language is\n",
    "## automactially detected with google."
   ]
  },
  {
   "cell_type": "code",
   "execution_count": null,
   "metadata": {},
   "outputs": [],
   "source": [
    "text_to_translate = 'This is a test'\n",
    "translated_text = translate_text(text_to_translate, target_language=\"ar\")\n",
    "\n",
    "print(\"Original text:\", text_to_translate)\n",
    "print(\"Translated text:\", translated_text)"
   ]
  },
  {
   "cell_type": "code",
   "execution_count": null,
   "metadata": {},
   "outputs": [],
   "source": [
    "#Function for translation in a python file\n",
    "\n",
    "def main():\n",
    "    text_to_translate = \"recipe\"\n",
    "    translated_text = translate_text(text_to_translate, target_language=\"es\")\n",
    "    print(\"Original text:\", text_to_translate)\n",
    "    print(\"Translated text:\", translated_text)\n",
    "\n",
    "if __name__ == \"__main__\":\n",
    "    main()"
   ]
  },
  {
   "cell_type": "code",
   "execution_count": null,
   "metadata": {},
   "outputs": [],
   "source": [
    "## Function that isloates the numbers next to the string 'minute' or 'hour'\n",
    "def find_cooking_time(text):\n",
    "    # Search for a number followed by \"minute\" or \"hour\" (case-insensitive)\n",
    "    pattern = re.compile(r'(\\d+)\\s*(minute[s]?|hour[s]?)', re.IGNORECASE)\n",
    "    match = pattern.search(text)\n",
    "\n",
    "    if match:\n",
    "        value, unit = int(match.group(1)), match.group(2).lower()\n",
    "        if \"hour\" in unit:\n",
    "            value *= 60  # Convert hours to minutes\n",
    "        return value\n",
    "    else:\n",
    "        return None\n",
    "     "
   ]
  },
  {
   "cell_type": "code",
   "execution_count": null,
   "metadata": {},
   "outputs": [],
   "source": [
    "# Apply the find_cooking_time function to the \"direction\" column to create a new column call cook_time\n",
    "df['cook_time'] = df['directions'].apply(find_cooking_time)"
   ]
  },
  {
   "cell_type": "code",
   "execution_count": null,
   "metadata": {},
   "outputs": [],
   "source": [
    "# Replace NaN values with 0 in the \"cook_time\" column\n",
    "df['cook_time'].fillna(0, inplace=True)"
   ]
  }
 ],
 "metadata": {
  "language_info": {
   "name": "python"
  },
  "orig_nbformat": 4
 },
 "nbformat": 4,
 "nbformat_minor": 2
}
