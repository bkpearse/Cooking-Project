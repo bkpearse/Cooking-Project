{
  "nbformat": 4,
  "nbformat_minor": 0,
  "metadata": {
    "colab": {
      "provenance": [],
      "authorship_tag": "ABX9TyNkZOA90i/ljsVzTIFPW8aS",
      "include_colab_link": true
    },
    "kernelspec": {
      "name": "python3",
      "display_name": "Python 3"
    },
    "language_info": {
      "name": "python"
    }
  },
  "cells": [
    {
      "cell_type": "markdown",
      "metadata": {
        "id": "view-in-github",
        "colab_type": "text"
      },
      "source": [
        "<a href=\"https://colab.research.google.com/github/bkpearse/Cooking-Project/blob/benjamain/Whoosh_Search.ipynb\" target=\"_parent\"><img src=\"https://colab.research.google.com/assets/colab-badge.svg\" alt=\"Open In Colab\"/></a>"
      ]
    },
    {
      "cell_type": "code",
      "execution_count": 1,
      "metadata": {
        "id": "tBRAScRDmCrl"
      },
      "outputs": [],
      "source": [
        "from google.colab import drive"
      ]
    },
    {
      "cell_type": "code",
      "source": [
        "drive.mount('/content/drive')"
      ],
      "metadata": {
        "colab": {
          "base_uri": "https://localhost:8080/"
        },
        "id": "GlF9DVSjmKws",
        "outputId": "a760eb10-95fe-47e7-faec-6102be185d2a"
      },
      "execution_count": 2,
      "outputs": [
        {
          "output_type": "stream",
          "name": "stdout",
          "text": [
            "Drive already mounted at /content/drive; to attempt to forcibly remount, call drive.mount(\"/content/drive\", force_remount=True).\n"
          ]
        }
      ]
    },
    {
      "cell_type": "code",
      "source": [
        "import os\n",
        "os.chdir('/content/drive/MyDrive/Colab Notebooks/')"
      ],
      "metadata": {
        "id": "ipy6QQUpmOoi"
      },
      "execution_count": 3,
      "outputs": []
    },
    {
      "cell_type": "code",
      "source": [
        "pip install whoosh"
      ],
      "metadata": {
        "id": "K-Qd1eBAQnqS"
      },
      "execution_count": null,
      "outputs": []
    },
    {
      "cell_type": "code",
      "source": [
        "import pandas as pd\n",
        "import numpy as np\n",
        "import matplotlib.pyplot as plt\n",
        "import csv\n",
        "from whoosh.fields import *\n",
        "from whoosh.index import create_in, open_dir\n",
        "from whoosh.qparser import QueryParser\n",
        "import whoosh.index as index\n",
        "from whoosh.fields import Schema, TEXT\n",
        "from whoosh.qparser import MultifieldParser\n",
        "from whoosh.qparser import OrGroup\n",
        "from whoosh.fields import Schema, KEYWORD\n",
        "from whoosh.query import Phrase\n",
        "from whoosh import qparser\n",
        "from whoosh.query import Or\n",
        "from whoosh.query import Term, And, BooleanQuery\n",
        "from whoosh.index import open_dir\n",
        "from whoosh import scoring\n",
        "from whoosh import index"
      ],
      "metadata": {
        "id": "GinmkyxymVio"
      },
      "execution_count": 4,
      "outputs": []
    },
    {
      "cell_type": "code",
      "source": [
        "df = pd.read_csv('Data/RecipeNLG_dataset.csv')"
      ],
      "metadata": {
        "id": "VGrWeGOOmYAH"
      },
      "execution_count": 5,
      "outputs": []
    },
    {
      "cell_type": "code",
      "source": [
        "df.head()"
      ],
      "metadata": {
        "colab": {
          "base_uri": "https://localhost:8080/",
          "height": 354
        },
        "id": "gF3sjpHKmaNR",
        "outputId": "f4883588-1fdb-4434-d75f-020817c6c905"
      },
      "execution_count": 6,
      "outputs": [
        {
          "output_type": "execute_result",
          "data": {
            "text/plain": [
              "   Unnamed: 0                  title  \\\n",
              "0           0    No-Bake Nut Cookies   \n",
              "1           1  Jewell Ball'S Chicken   \n",
              "2           2            Creamy Corn   \n",
              "3           3          Chicken Funny   \n",
              "4           4   Reeses Cups(Candy)     \n",
              "\n",
              "                                         ingredients  \\\n",
              "0  [\"1 c. firmly packed brown sugar\", \"1/2 c. eva...   \n",
              "1  [\"1 small jar chipped beef, cut up\", \"4 boned ...   \n",
              "2  [\"2 (16 oz.) pkg. frozen corn\", \"1 (8 oz.) pkg...   \n",
              "3  [\"1 large whole chicken\", \"2 (10 1/2 oz.) cans...   \n",
              "4  [\"1 c. peanut butter\", \"3/4 c. graham cracker ...   \n",
              "\n",
              "                                          directions  \\\n",
              "0  [\"In a heavy 2-quart saucepan, mix brown sugar...   \n",
              "1  [\"Place chipped beef on bottom of baking dish....   \n",
              "2  [\"In a slow cooker, combine all ingredients. C...   \n",
              "3  [\"Boil and debone chicken.\", \"Put bite size pi...   \n",
              "4  [\"Combine first four ingredients and press in ...   \n",
              "\n",
              "                                              link    source  \\\n",
              "0   www.cookbooks.com/Recipe-Details.aspx?id=44874  Gathered   \n",
              "1  www.cookbooks.com/Recipe-Details.aspx?id=699419  Gathered   \n",
              "2   www.cookbooks.com/Recipe-Details.aspx?id=10570  Gathered   \n",
              "3  www.cookbooks.com/Recipe-Details.aspx?id=897570  Gathered   \n",
              "4  www.cookbooks.com/Recipe-Details.aspx?id=659239  Gathered   \n",
              "\n",
              "                                                 NER  \n",
              "0  [\"brown sugar\", \"milk\", \"vanilla\", \"nuts\", \"bu...  \n",
              "1  [\"beef\", \"chicken breasts\", \"cream of mushroom...  \n",
              "2  [\"frozen corn\", \"cream cheese\", \"butter\", \"gar...  \n",
              "3  [\"chicken\", \"chicken gravy\", \"cream of mushroo...  \n",
              "4  [\"peanut butter\", \"graham cracker crumbs\", \"bu...  "
            ],
            "text/html": [
              "\n",
              "  <div id=\"df-e2059086-ae97-4cc5-a886-7b5493ef4cdb\">\n",
              "    <div class=\"colab-df-container\">\n",
              "      <div>\n",
              "<style scoped>\n",
              "    .dataframe tbody tr th:only-of-type {\n",
              "        vertical-align: middle;\n",
              "    }\n",
              "\n",
              "    .dataframe tbody tr th {\n",
              "        vertical-align: top;\n",
              "    }\n",
              "\n",
              "    .dataframe thead th {\n",
              "        text-align: right;\n",
              "    }\n",
              "</style>\n",
              "<table border=\"1\" class=\"dataframe\">\n",
              "  <thead>\n",
              "    <tr style=\"text-align: right;\">\n",
              "      <th></th>\n",
              "      <th>Unnamed: 0</th>\n",
              "      <th>title</th>\n",
              "      <th>ingredients</th>\n",
              "      <th>directions</th>\n",
              "      <th>link</th>\n",
              "      <th>source</th>\n",
              "      <th>NER</th>\n",
              "    </tr>\n",
              "  </thead>\n",
              "  <tbody>\n",
              "    <tr>\n",
              "      <th>0</th>\n",
              "      <td>0</td>\n",
              "      <td>No-Bake Nut Cookies</td>\n",
              "      <td>[\"1 c. firmly packed brown sugar\", \"1/2 c. eva...</td>\n",
              "      <td>[\"In a heavy 2-quart saucepan, mix brown sugar...</td>\n",
              "      <td>www.cookbooks.com/Recipe-Details.aspx?id=44874</td>\n",
              "      <td>Gathered</td>\n",
              "      <td>[\"brown sugar\", \"milk\", \"vanilla\", \"nuts\", \"bu...</td>\n",
              "    </tr>\n",
              "    <tr>\n",
              "      <th>1</th>\n",
              "      <td>1</td>\n",
              "      <td>Jewell Ball'S Chicken</td>\n",
              "      <td>[\"1 small jar chipped beef, cut up\", \"4 boned ...</td>\n",
              "      <td>[\"Place chipped beef on bottom of baking dish....</td>\n",
              "      <td>www.cookbooks.com/Recipe-Details.aspx?id=699419</td>\n",
              "      <td>Gathered</td>\n",
              "      <td>[\"beef\", \"chicken breasts\", \"cream of mushroom...</td>\n",
              "    </tr>\n",
              "    <tr>\n",
              "      <th>2</th>\n",
              "      <td>2</td>\n",
              "      <td>Creamy Corn</td>\n",
              "      <td>[\"2 (16 oz.) pkg. frozen corn\", \"1 (8 oz.) pkg...</td>\n",
              "      <td>[\"In a slow cooker, combine all ingredients. C...</td>\n",
              "      <td>www.cookbooks.com/Recipe-Details.aspx?id=10570</td>\n",
              "      <td>Gathered</td>\n",
              "      <td>[\"frozen corn\", \"cream cheese\", \"butter\", \"gar...</td>\n",
              "    </tr>\n",
              "    <tr>\n",
              "      <th>3</th>\n",
              "      <td>3</td>\n",
              "      <td>Chicken Funny</td>\n",
              "      <td>[\"1 large whole chicken\", \"2 (10 1/2 oz.) cans...</td>\n",
              "      <td>[\"Boil and debone chicken.\", \"Put bite size pi...</td>\n",
              "      <td>www.cookbooks.com/Recipe-Details.aspx?id=897570</td>\n",
              "      <td>Gathered</td>\n",
              "      <td>[\"chicken\", \"chicken gravy\", \"cream of mushroo...</td>\n",
              "    </tr>\n",
              "    <tr>\n",
              "      <th>4</th>\n",
              "      <td>4</td>\n",
              "      <td>Reeses Cups(Candy)</td>\n",
              "      <td>[\"1 c. peanut butter\", \"3/4 c. graham cracker ...</td>\n",
              "      <td>[\"Combine first four ingredients and press in ...</td>\n",
              "      <td>www.cookbooks.com/Recipe-Details.aspx?id=659239</td>\n",
              "      <td>Gathered</td>\n",
              "      <td>[\"peanut butter\", \"graham cracker crumbs\", \"bu...</td>\n",
              "    </tr>\n",
              "  </tbody>\n",
              "</table>\n",
              "</div>\n",
              "      <button class=\"colab-df-convert\" onclick=\"convertToInteractive('df-e2059086-ae97-4cc5-a886-7b5493ef4cdb')\"\n",
              "              title=\"Convert this dataframe to an interactive table.\"\n",
              "              style=\"display:none;\">\n",
              "        \n",
              "  <svg xmlns=\"http://www.w3.org/2000/svg\" height=\"24px\"viewBox=\"0 0 24 24\"\n",
              "       width=\"24px\">\n",
              "    <path d=\"M0 0h24v24H0V0z\" fill=\"none\"/>\n",
              "    <path d=\"M18.56 5.44l.94 2.06.94-2.06 2.06-.94-2.06-.94-.94-2.06-.94 2.06-2.06.94zm-11 1L8.5 8.5l.94-2.06 2.06-.94-2.06-.94L8.5 2.5l-.94 2.06-2.06.94zm10 10l.94 2.06.94-2.06 2.06-.94-2.06-.94-.94-2.06-.94 2.06-2.06.94z\"/><path d=\"M17.41 7.96l-1.37-1.37c-.4-.4-.92-.59-1.43-.59-.52 0-1.04.2-1.43.59L10.3 9.45l-7.72 7.72c-.78.78-.78 2.05 0 2.83L4 21.41c.39.39.9.59 1.41.59.51 0 1.02-.2 1.41-.59l7.78-7.78 2.81-2.81c.8-.78.8-2.07 0-2.86zM5.41 20L4 18.59l7.72-7.72 1.47 1.35L5.41 20z\"/>\n",
              "  </svg>\n",
              "      </button>\n",
              "      \n",
              "  <style>\n",
              "    .colab-df-container {\n",
              "      display:flex;\n",
              "      flex-wrap:wrap;\n",
              "      gap: 12px;\n",
              "    }\n",
              "\n",
              "    .colab-df-convert {\n",
              "      background-color: #E8F0FE;\n",
              "      border: none;\n",
              "      border-radius: 50%;\n",
              "      cursor: pointer;\n",
              "      display: none;\n",
              "      fill: #1967D2;\n",
              "      height: 32px;\n",
              "      padding: 0 0 0 0;\n",
              "      width: 32px;\n",
              "    }\n",
              "\n",
              "    .colab-df-convert:hover {\n",
              "      background-color: #E2EBFA;\n",
              "      box-shadow: 0px 1px 2px rgba(60, 64, 67, 0.3), 0px 1px 3px 1px rgba(60, 64, 67, 0.15);\n",
              "      fill: #174EA6;\n",
              "    }\n",
              "\n",
              "    [theme=dark] .colab-df-convert {\n",
              "      background-color: #3B4455;\n",
              "      fill: #D2E3FC;\n",
              "    }\n",
              "\n",
              "    [theme=dark] .colab-df-convert:hover {\n",
              "      background-color: #434B5C;\n",
              "      box-shadow: 0px 1px 3px 1px rgba(0, 0, 0, 0.15);\n",
              "      filter: drop-shadow(0px 1px 2px rgba(0, 0, 0, 0.3));\n",
              "      fill: #FFFFFF;\n",
              "    }\n",
              "  </style>\n",
              "\n",
              "      <script>\n",
              "        const buttonEl =\n",
              "          document.querySelector('#df-e2059086-ae97-4cc5-a886-7b5493ef4cdb button.colab-df-convert');\n",
              "        buttonEl.style.display =\n",
              "          google.colab.kernel.accessAllowed ? 'block' : 'none';\n",
              "\n",
              "        async function convertToInteractive(key) {\n",
              "          const element = document.querySelector('#df-e2059086-ae97-4cc5-a886-7b5493ef4cdb');\n",
              "          const dataTable =\n",
              "            await google.colab.kernel.invokeFunction('convertToInteractive',\n",
              "                                                     [key], {});\n",
              "          if (!dataTable) return;\n",
              "\n",
              "          const docLinkHtml = 'Like what you see? Visit the ' +\n",
              "            '<a target=\"_blank\" href=https://colab.research.google.com/notebooks/data_table.ipynb>data table notebook</a>'\n",
              "            + ' to learn more about interactive tables.';\n",
              "          element.innerHTML = '';\n",
              "          dataTable['output_type'] = 'display_data';\n",
              "          await google.colab.output.renderOutput(dataTable, element);\n",
              "          const docLink = document.createElement('div');\n",
              "          docLink.innerHTML = docLinkHtml;\n",
              "          element.appendChild(docLink);\n",
              "        }\n",
              "      </script>\n",
              "    </div>\n",
              "  </div>\n",
              "  "
            ]
          },
          "metadata": {},
          "execution_count": 6
        }
      ]
    },
    {
      "cell_type": "code",
      "source": [
        "# Define the schema of the index\n",
        "my_schema = Schema(title=TEXT(stored=True), \n",
        "                ingredients=KEYWORD(stored=True, commas=True),\n",
        "                directions=TEXT(stored=True),\n",
        "                link=ID(stored=True),\n",
        "                source=TEXT(stored=True),\n",
        "                NER=TEXT(stored=True))"
      ],
      "metadata": {
        "id": "FGPZ7z9Yv7MX"
      },
      "execution_count": 90,
      "outputs": []
    },
    {
      "cell_type": "code",
      "source": [
        "# Create the index or open it if it already exists\n",
        "if not os.path.exists(\"new_index\"):\n",
        "    os.mkdir(\"new_index\")\n",
        "    ix = index.create_in(\"new_index\", my_schema)\n",
        "else:\n",
        "    ix = index.open_dir(\"new_index\")"
      ],
      "metadata": {
        "id": "SqV-cHv13Zut"
      },
      "execution_count": 91,
      "outputs": []
    },
    {
      "cell_type": "code",
      "source": [
        "\n",
        "# Set the chunk size\n",
        "chunk_size = 10000"
      ],
      "metadata": {
        "id": "bSTPYoXw3m8u"
      },
      "execution_count": 92,
      "outputs": []
    },
    {
      "cell_type": "code",
      "source": [
        "# Index the dataset in chunks\n",
        "writer = ix.writer()\n",
        "with open('Data/RecipeNLG_dataset.csv') as f:\n",
        "    next(f)  # Skip the header row\n",
        "    lines = []\n",
        "    for line in f:\n",
        "        line = line.strip().split(',')\n",
        "        if len(line) == 7:\n",
        "            lines.append(line)\n",
        "        if len(lines) == chunk_size:\n",
        "            for l in lines:\n",
        "                writer.add_document(title=l[1], \n",
        "                                    ingredients=l[2], \n",
        "                                    directions=l[3], \n",
        "                                    link=l[4], \n",
        "                                    source=l[5], \n",
        "                                    NER=l[6])\n",
        "            lines = []\n",
        "            writer.commit()\n",
        "            writer = ix.writer()\n",
        "    # Add any remaining lines\n",
        "    for l in lines:\n",
        "        writer.add_document(title=l[1], \n",
        "                            ingredients=l[2], \n",
        "                            directions=l[3], \n",
        "                            link=l[4], \n",
        "                            source=l[5], \n",
        "                            NER=l[6])\n",
        "    writer.commit()\n",
        "    \n",
        "print(\"Indexing complete!\")"
      ],
      "metadata": {
        "colab": {
          "base_uri": "https://localhost:8080/"
        },
        "id": "ffipNNxlwX8R",
        "outputId": "fc7d6733-d6e6-440a-a4db-eaa9f325edc0"
      },
      "execution_count": 93,
      "outputs": [
        {
          "output_type": "stream",
          "name": "stdout",
          "text": [
            "Indexing complete!\n"
          ]
        }
      ]
    },
    {
      "cell_type": "markdown",
      "source": [
        "Defining the search term and running the search"
      ],
      "metadata": {
        "id": "qp8yO0OCo_fK"
      }
    },
    {
      "cell_type": "code",
      "source": [
        "# Define the search term\n",
        "search_term = \"Fresh chili peppers\""
      ],
      "metadata": {
        "id": "pjDoRhDma7Wd"
      },
      "execution_count": 103,
      "outputs": []
    },
    {
      "cell_type": "code",
      "source": [
        "# Create a QueryParser for the \"NER\" field\n",
        "qp = QueryParser(\"NER\", schema=ix.schema)"
      ],
      "metadata": {
        "id": "QpDlr_wsa7ev"
      },
      "execution_count": 104,
      "outputs": []
    },
    {
      "cell_type": "code",
      "source": [
        "# Parse the search term\n",
        "q = qp.parse(search_term)"
      ],
      "metadata": {
        "id": "nNIGLQAMZoSm"
      },
      "execution_count": 105,
      "outputs": []
    },
    {
      "cell_type": "code",
      "source": [
        "# Search the index and get the results\n",
        "with ix.searcher() as searcher:\n",
        "    results = searcher.search(q)\n",
        "    \n",
        "    # Print the results\n",
        "    for result in results:\n",
        "        print(result)"
      ],
      "metadata": {
        "colab": {
          "base_uri": "https://localhost:8080/"
        },
        "id": "SxGicKhsb8zx",
        "outputId": "27f597ac-3d75-4fc2-aa03-e3ab2721e684"
      },
      "execution_count": 107,
      "outputs": [
        {
          "output_type": "stream",
          "name": "stdout",
          "text": [
            "<Hit {'NER': '\"[\"\"Fresh chili peppers\"\"]\"', 'directions': '\"[\"\"Preheat oven to 500 degrees.\"\"]\"', 'ingredients': '\"[\"\"Fresh chili peppers\"\"]\"', 'link': 'www.cookbooks.com/Recipe-Details.aspx?id=117013', 'source': 'Gathered', 'title': 'Roasted Chili Peppers(To Roast And Peel Green Chilies)  '}>\n"
          ]
        }
      ]
    },
    {
      "cell_type": "markdown",
      "source": [
        "Viewing our data in the index"
      ],
      "metadata": {
        "id": "MMNsukqIpHIH"
      }
    },
    {
      "cell_type": "code",
      "source": [
        "with ix.searcher() as searcher:\n",
        "    # Get the first document in the index\n",
        "    docnum = 9\n",
        "    doc = searcher.stored_fields(docnum)\n",
        "\n",
        "    # Print the stored fields for the document\n",
        "    print(doc)"
      ],
      "metadata": {
        "colab": {
          "base_uri": "https://localhost:8080/"
        },
        "id": "nxtRa82FRZrK",
        "outputId": "48351b6a-11cf-4195-8cf1-203dbad101fa"
      },
      "execution_count": 94,
      "outputs": [
        {
          "output_type": "stream",
          "name": "stdout",
          "text": [
            "{'NER': '\"[\"\"Fresh chili peppers\"\"]\"', 'directions': '\"[\"\"Preheat oven to 500 degrees.\"\"]\"', 'ingredients': '\"[\"\"Fresh chili peppers\"\"]\"', 'link': 'www.cookbooks.com/Recipe-Details.aspx?id=117013', 'source': 'Gathered', 'title': 'Roasted Chili Peppers(To Roast And Peel Green Chilies)  '}\n"
          ]
        }
      ]
    },
    {
      "cell_type": "code",
      "source": [
        "with ix.searcher() as searcher:\n",
        "  docnum = 9\n",
        "  doc = searcher.stored_fields(docnum)\n",
        "\n",
        "  ner = doc['NER']\n",
        "  print(ner)"
      ],
      "metadata": {
        "colab": {
          "base_uri": "https://localhost:8080/"
        },
        "id": "pDXbHHR6ZnyF",
        "outputId": "33d8b54f-9789-4bb5-a799-66dd4cda9b39"
      },
      "execution_count": 95,
      "outputs": [
        {
          "output_type": "stream",
          "name": "stdout",
          "text": [
            "\"[\"\"Fresh chili peppers\"\"]\"\n"
          ]
        }
      ]
    }
  ]
}