{
 "cells": [
  {
   "cell_type": "code",
   "execution_count": 2,
   "id": "b34cc9a7",
   "metadata": {},
   "outputs": [
    {
     "data": {
      "text/plain": [
       "{'prediction': 16}"
      ]
     },
     "execution_count": 2,
     "metadata": {},
     "output_type": "execute_result"
    }
   ],
   "source": [
    "import requests\n",
    "\n",
    "url = 'http://localhost:8080/predict'\n",
    "params = {\n",
    "    'feature1': 4, # 0 for Sunday, 1 for Monday, ... \n",
    "    'feature2': 4\n",
    "}\n",
    "response = requests.get(url, params=params)\n",
    "\n",
    "response.json()"
   ]
  }
 ],
 "metadata": {
  "kernelspec": {
   "display_name": "lewagon_current",
   "language": "python",
   "name": "python3"
  },
  "language_info": {
   "codemirror_mode": {
    "name": "ipython",
    "version": 3
   },
   "file_extension": ".py",
   "mimetype": "text/x-python",
   "name": "python",
   "nbconvert_exporter": "python",
   "pygments_lexer": "ipython3",
   "version": "3.8.12"
  },
  "toc": {
   "base_numbering": 1,
   "nav_menu": {},
   "number_sections": true,
   "sideBar": true,
   "skip_h1_title": false,
   "title_cell": "Table of Contents",
   "title_sidebar": "Contents",
   "toc_cell": false,
   "toc_position": {},
   "toc_section_display": true,
   "toc_window_display": false
  },
  "vscode": {
   "interpreter": {
    "hash": "bdda9fd72e0043537239fe5a60324e394f81ee8a6ba2fcf02f77c1a41ec64a53"
   }
  }
 },
 "nbformat": 4,
 "nbformat_minor": 5
}
